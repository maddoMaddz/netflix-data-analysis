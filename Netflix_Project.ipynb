{
  "nbformat": 4,
  "nbformat_minor": 0,
  "metadata": {
    "colab": {
      "provenance": [],
      "authorship_tag": "ABX9TyNHDCjclN5rDsLrOR0TAJRh",
      "include_colab_link": true
    },
    "kernelspec": {
      "name": "python3",
      "display_name": "Python 3"
    },
    "language_info": {
      "name": "python"
    }
  },
  "cells": [
    {
      "cell_type": "markdown",
      "metadata": {
        "id": "view-in-github",
        "colab_type": "text"
      },
      "source": [
        "<a href=\"https://colab.research.google.com/github/maddoMaddz/netflix-data-analysis/blob/main/Netflix_Project.ipynb\" target=\"_parent\"><img src=\"https://colab.research.google.com/assets/colab-badge.svg\" alt=\"Open In Colab\"/></a>"
      ]
    },
    {
      "cell_type": "markdown",
      "source": [
        "# **Data Collection**"
      ],
      "metadata": {
        "id": "_CUVVwFHuqpW"
      }
    },
    {
      "cell_type": "code",
      "source": [
        "# Step 1: Data collection\n",
        "from google.colab import files\n",
        "uploaded = files.upload()\n"
      ],
      "metadata": {
        "colab": {
          "base_uri": "https://localhost:8080/",
          "height": 73
        },
        "id": "QVBMh62mlUxl",
        "outputId": "e00efc61-1fdf-40ce-b895-8cd5ace1f8c6"
      },
      "execution_count": null,
      "outputs": [
        {
          "output_type": "display_data",
          "data": {
            "text/plain": [
              "<IPython.core.display.HTML object>"
            ],
            "text/html": [
              "\n",
              "     <input type=\"file\" id=\"files-0ecc94b5-0d1c-4dda-977b-72b482b1d83f\" name=\"files[]\" multiple disabled\n",
              "        style=\"border:none\" />\n",
              "     <output id=\"result-0ecc94b5-0d1c-4dda-977b-72b482b1d83f\">\n",
              "      Upload widget is only available when the cell has been executed in the\n",
              "      current browser session. Please rerun this cell to enable.\n",
              "      </output>\n",
              "      <script>// Copyright 2017 Google LLC\n",
              "//\n",
              "// Licensed under the Apache License, Version 2.0 (the \"License\");\n",
              "// you may not use this file except in compliance with the License.\n",
              "// You may obtain a copy of the License at\n",
              "//\n",
              "//      http://www.apache.org/licenses/LICENSE-2.0\n",
              "//\n",
              "// Unless required by applicable law or agreed to in writing, software\n",
              "// distributed under the License is distributed on an \"AS IS\" BASIS,\n",
              "// WITHOUT WARRANTIES OR CONDITIONS OF ANY KIND, either express or implied.\n",
              "// See the License for the specific language governing permissions and\n",
              "// limitations under the License.\n",
              "\n",
              "/**\n",
              " * @fileoverview Helpers for google.colab Python module.\n",
              " */\n",
              "(function(scope) {\n",
              "function span(text, styleAttributes = {}) {\n",
              "  const element = document.createElement('span');\n",
              "  element.textContent = text;\n",
              "  for (const key of Object.keys(styleAttributes)) {\n",
              "    element.style[key] = styleAttributes[key];\n",
              "  }\n",
              "  return element;\n",
              "}\n",
              "\n",
              "// Max number of bytes which will be uploaded at a time.\n",
              "const MAX_PAYLOAD_SIZE = 100 * 1024;\n",
              "\n",
              "function _uploadFiles(inputId, outputId) {\n",
              "  const steps = uploadFilesStep(inputId, outputId);\n",
              "  const outputElement = document.getElementById(outputId);\n",
              "  // Cache steps on the outputElement to make it available for the next call\n",
              "  // to uploadFilesContinue from Python.\n",
              "  outputElement.steps = steps;\n",
              "\n",
              "  return _uploadFilesContinue(outputId);\n",
              "}\n",
              "\n",
              "// This is roughly an async generator (not supported in the browser yet),\n",
              "// where there are multiple asynchronous steps and the Python side is going\n",
              "// to poll for completion of each step.\n",
              "// This uses a Promise to block the python side on completion of each step,\n",
              "// then passes the result of the previous step as the input to the next step.\n",
              "function _uploadFilesContinue(outputId) {\n",
              "  const outputElement = document.getElementById(outputId);\n",
              "  const steps = outputElement.steps;\n",
              "\n",
              "  const next = steps.next(outputElement.lastPromiseValue);\n",
              "  return Promise.resolve(next.value.promise).then((value) => {\n",
              "    // Cache the last promise value to make it available to the next\n",
              "    // step of the generator.\n",
              "    outputElement.lastPromiseValue = value;\n",
              "    return next.value.response;\n",
              "  });\n",
              "}\n",
              "\n",
              "/**\n",
              " * Generator function which is called between each async step of the upload\n",
              " * process.\n",
              " * @param {string} inputId Element ID of the input file picker element.\n",
              " * @param {string} outputId Element ID of the output display.\n",
              " * @return {!Iterable<!Object>} Iterable of next steps.\n",
              " */\n",
              "function* uploadFilesStep(inputId, outputId) {\n",
              "  const inputElement = document.getElementById(inputId);\n",
              "  inputElement.disabled = false;\n",
              "\n",
              "  const outputElement = document.getElementById(outputId);\n",
              "  outputElement.innerHTML = '';\n",
              "\n",
              "  const pickedPromise = new Promise((resolve) => {\n",
              "    inputElement.addEventListener('change', (e) => {\n",
              "      resolve(e.target.files);\n",
              "    });\n",
              "  });\n",
              "\n",
              "  const cancel = document.createElement('button');\n",
              "  inputElement.parentElement.appendChild(cancel);\n",
              "  cancel.textContent = 'Cancel upload';\n",
              "  const cancelPromise = new Promise((resolve) => {\n",
              "    cancel.onclick = () => {\n",
              "      resolve(null);\n",
              "    };\n",
              "  });\n",
              "\n",
              "  // Wait for the user to pick the files.\n",
              "  const files = yield {\n",
              "    promise: Promise.race([pickedPromise, cancelPromise]),\n",
              "    response: {\n",
              "      action: 'starting',\n",
              "    }\n",
              "  };\n",
              "\n",
              "  cancel.remove();\n",
              "\n",
              "  // Disable the input element since further picks are not allowed.\n",
              "  inputElement.disabled = true;\n",
              "\n",
              "  if (!files) {\n",
              "    return {\n",
              "      response: {\n",
              "        action: 'complete',\n",
              "      }\n",
              "    };\n",
              "  }\n",
              "\n",
              "  for (const file of files) {\n",
              "    const li = document.createElement('li');\n",
              "    li.append(span(file.name, {fontWeight: 'bold'}));\n",
              "    li.append(span(\n",
              "        `(${file.type || 'n/a'}) - ${file.size} bytes, ` +\n",
              "        `last modified: ${\n",
              "            file.lastModifiedDate ? file.lastModifiedDate.toLocaleDateString() :\n",
              "                                    'n/a'} - `));\n",
              "    const percent = span('0% done');\n",
              "    li.appendChild(percent);\n",
              "\n",
              "    outputElement.appendChild(li);\n",
              "\n",
              "    const fileDataPromise = new Promise((resolve) => {\n",
              "      const reader = new FileReader();\n",
              "      reader.onload = (e) => {\n",
              "        resolve(e.target.result);\n",
              "      };\n",
              "      reader.readAsArrayBuffer(file);\n",
              "    });\n",
              "    // Wait for the data to be ready.\n",
              "    let fileData = yield {\n",
              "      promise: fileDataPromise,\n",
              "      response: {\n",
              "        action: 'continue',\n",
              "      }\n",
              "    };\n",
              "\n",
              "    // Use a chunked sending to avoid message size limits. See b/62115660.\n",
              "    let position = 0;\n",
              "    do {\n",
              "      const length = Math.min(fileData.byteLength - position, MAX_PAYLOAD_SIZE);\n",
              "      const chunk = new Uint8Array(fileData, position, length);\n",
              "      position += length;\n",
              "\n",
              "      const base64 = btoa(String.fromCharCode.apply(null, chunk));\n",
              "      yield {\n",
              "        response: {\n",
              "          action: 'append',\n",
              "          file: file.name,\n",
              "          data: base64,\n",
              "        },\n",
              "      };\n",
              "\n",
              "      let percentDone = fileData.byteLength === 0 ?\n",
              "          100 :\n",
              "          Math.round((position / fileData.byteLength) * 100);\n",
              "      percent.textContent = `${percentDone}% done`;\n",
              "\n",
              "    } while (position < fileData.byteLength);\n",
              "  }\n",
              "\n",
              "  // All done.\n",
              "  yield {\n",
              "    response: {\n",
              "      action: 'complete',\n",
              "    }\n",
              "  };\n",
              "}\n",
              "\n",
              "scope.google = scope.google || {};\n",
              "scope.google.colab = scope.google.colab || {};\n",
              "scope.google.colab._files = {\n",
              "  _uploadFiles,\n",
              "  _uploadFilesContinue,\n",
              "};\n",
              "})(self);\n",
              "</script> "
            ]
          },
          "metadata": {}
        },
        {
          "output_type": "stream",
          "name": "stdout",
          "text": [
            "Saving netflix1.csv to netflix1.csv\n"
          ]
        }
      ]
    },
    {
      "cell_type": "code",
      "source": [
        "import pandas as pd\n",
        "\n",
        "# Step 2: Loading the dataset\n",
        "data = pd.read_csv('netflix1.csv')  # Adjust file path if necessary\n",
        "\n",
        "# Initial Exploration\n",
        "print(\"Dataset Info:\")\n",
        "data.info()\n",
        "print(\"\\nFirst Few Rows of Data:\")\n",
        "print(data.head())\n"
      ],
      "metadata": {
        "colab": {
          "base_uri": "https://localhost:8080/"
        },
        "id": "4X40kl2cmes5",
        "outputId": "fcb4bb8f-4e85-489d-8d2b-364302747152"
      },
      "execution_count": null,
      "outputs": [
        {
          "output_type": "stream",
          "name": "stdout",
          "text": [
            "Dataset Info:\n",
            "<class 'pandas.core.frame.DataFrame'>\n",
            "RangeIndex: 8790 entries, 0 to 8789\n",
            "Data columns (total 10 columns):\n",
            " #   Column        Non-Null Count  Dtype \n",
            "---  ------        --------------  ----- \n",
            " 0   show_id       8790 non-null   object\n",
            " 1   type          8790 non-null   object\n",
            " 2   title         8790 non-null   object\n",
            " 3   director      8790 non-null   object\n",
            " 4   country       8790 non-null   object\n",
            " 5   date_added    8790 non-null   object\n",
            " 6   release_year  8790 non-null   int64 \n",
            " 7   rating        8790 non-null   object\n",
            " 8   duration      8790 non-null   object\n",
            " 9   listed_in     8790 non-null   object\n",
            "dtypes: int64(1), object(9)\n",
            "memory usage: 686.8+ KB\n",
            "\n",
            "First Few Rows of Data:\n",
            "  show_id     type                             title         director  \\\n",
            "0      s1    Movie              Dick Johnson Is Dead  Kirsten Johnson   \n",
            "1      s3  TV Show                         Ganglands  Julien Leclercq   \n",
            "2      s6  TV Show                     Midnight Mass    Mike Flanagan   \n",
            "3     s14    Movie  Confessions of an Invisible Girl    Bruno Garotti   \n",
            "4      s8    Movie                           Sankofa     Haile Gerima   \n",
            "\n",
            "         country date_added  release_year rating  duration  \\\n",
            "0  United States  9/25/2021          2020  PG-13    90 min   \n",
            "1         France  9/24/2021          2021  TV-MA  1 Season   \n",
            "2  United States  9/24/2021          2021  TV-MA  1 Season   \n",
            "3         Brazil  9/22/2021          2021  TV-PG    91 min   \n",
            "4  United States  9/24/2021          1993  TV-MA   125 min   \n",
            "\n",
            "                                           listed_in  \n",
            "0                                      Documentaries  \n",
            "1  Crime TV Shows, International TV Shows, TV Act...  \n",
            "2                 TV Dramas, TV Horror, TV Mysteries  \n",
            "3                 Children & Family Movies, Comedies  \n",
            "4   Dramas, Independent Movies, International Movies  \n"
          ]
        }
      ]
    },
    {
      "cell_type": "code",
      "source": [
        "# Basic Descriptive Statistics\n",
        "print(\"Basic Descriptive Statistics:\")\n",
        "print(data.describe(include='all'))\n"
      ],
      "metadata": {
        "colab": {
          "base_uri": "https://localhost:8080/"
        },
        "id": "01SxxOGCyaXB",
        "outputId": "9b042540-66a5-4334-ba6d-ba362c57a2a2"
      },
      "execution_count": null,
      "outputs": [
        {
          "output_type": "stream",
          "name": "stdout",
          "text": [
            "Basic Descriptive Statistics:\n",
            "       show_id   type  title   director        country  \\\n",
            "count     8790   8790   8790       8790           8790   \n",
            "unique    8790      2   8787       4528             86   \n",
            "top         s1  movie  9-Feb  Not Given  united states   \n",
            "freq         1   6126      2       2588           3240   \n",
            "mean       NaN    NaN    NaN        NaN            NaN   \n",
            "min        NaN    NaN    NaN        NaN            NaN   \n",
            "25%        NaN    NaN    NaN        NaN            NaN   \n",
            "50%        NaN    NaN    NaN        NaN            NaN   \n",
            "75%        NaN    NaN    NaN        NaN            NaN   \n",
            "max        NaN    NaN    NaN        NaN            NaN   \n",
            "std        NaN    NaN    NaN        NaN            NaN   \n",
            "\n",
            "                           date_added  release_year rating  duration  \\\n",
            "count                            8790   8790.000000   8790      8790   \n",
            "unique                            NaN           NaN     14       220   \n",
            "top                               NaN           NaN  tv-ma  1 Season   \n",
            "freq                              NaN           NaN   3205      1791   \n",
            "mean    2019-05-17 21:44:01.638225408   2014.183163    NaN       NaN   \n",
            "min               2008-01-01 00:00:00   1925.000000    NaN       NaN   \n",
            "25%               2018-04-06 00:00:00   2013.000000    NaN       NaN   \n",
            "50%               2019-07-03 00:00:00   2017.000000    NaN       NaN   \n",
            "75%               2020-08-19 18:00:00   2019.000000    NaN       NaN   \n",
            "max               2021-09-25 00:00:00   2021.000000    NaN       NaN   \n",
            "std                               NaN      8.825466    NaN       NaN   \n",
            "\n",
            "                           listed_in  duration_processed   year_added  \\\n",
            "count                           8790         8790.000000  8790.000000   \n",
            "unique                           513                 NaN          NaN   \n",
            "top     dramas, international movies                 NaN          NaN   \n",
            "freq                             362                 NaN          NaN   \n",
            "mean                             NaN           69.934471  2018.873606   \n",
            "min                              NaN            1.000000  2008.000000   \n",
            "25%                              NaN            2.000000  2018.000000   \n",
            "50%                              NaN           88.500000  2019.000000   \n",
            "75%                              NaN          106.000000  2020.000000   \n",
            "max                              NaN          312.000000  2021.000000   \n",
            "std                              NaN           50.794433     1.573568   \n",
            "\n",
            "       is_high_rated  \n",
            "count           8790  \n",
            "unique             2  \n",
            "top            False  \n",
            "freq            4786  \n",
            "mean             NaN  \n",
            "min              NaN  \n",
            "25%              NaN  \n",
            "50%              NaN  \n",
            "75%              NaN  \n",
            "max              NaN  \n",
            "std              NaN  \n"
          ]
        }
      ]
    },
    {
      "cell_type": "code",
      "source": [
        "print(\"\\nSummary Statistics for Release Year:\")\n",
        "print(data['release_year'].describe())"
      ],
      "metadata": {
        "colab": {
          "base_uri": "https://localhost:8080/"
        },
        "id": "wLUZOX4nyaTW",
        "outputId": "236449e6-7bff-481a-826a-ff6331d6d6e9"
      },
      "execution_count": null,
      "outputs": [
        {
          "output_type": "stream",
          "name": "stdout",
          "text": [
            "\n",
            "Summary Statistics for Release Year:\n",
            "count    8790.000000\n",
            "mean     2014.183163\n",
            "std         8.825466\n",
            "min      1925.000000\n",
            "25%      2013.000000\n",
            "50%      2017.000000\n",
            "75%      2019.000000\n",
            "max      2021.000000\n",
            "Name: release_year, dtype: float64\n"
          ]
        }
      ]
    },
    {
      "cell_type": "code",
      "source": [
        "# convert 'duration' for movies\n",
        "if data['type'].str.lower().str.contains('movie').any():\n",
        "    data['movie_duration'] = data['duration'].apply(lambda x: int(x.replace(' min', '')) if 'min' in x else None)\n",
        "    print(\"\\nSummary Statistics for Movie Duration:\")\n",
        "    print(data['movie_duration'].describe())"
      ],
      "metadata": {
        "colab": {
          "base_uri": "https://localhost:8080/"
        },
        "id": "u5k2eHE6yaQa",
        "outputId": "65cad676-0b46-4fb6-e2b8-6d483eaa89f0"
      },
      "execution_count": null,
      "outputs": [
        {
          "output_type": "stream",
          "name": "stdout",
          "text": [
            "\n",
            "Summary Statistics for Movie Duration:\n",
            "count    6126.000000\n",
            "mean       99.584884\n",
            "std        28.283225\n",
            "min         3.000000\n",
            "25%        87.000000\n",
            "50%        98.000000\n",
            "75%       114.000000\n",
            "max       312.000000\n",
            "Name: movie_duration, dtype: float64\n"
          ]
        }
      ]
    },
    {
      "cell_type": "code",
      "source": [
        "# 3. Frequency Counts for Categorical Columns\n",
        "print(\"\\nFrequency Counts for Content Type (Movies vs TV Shows):\")\n",
        "print(data['type'].value_counts())\n",
        "\n",
        "print(\"\\nFrequency Counts for Ratings:\")\n",
        "print(data['rating'].value_counts())\n",
        "\n",
        "print(\"\\nFrequency Counts for Top 10 Countries:\")\n",
        "print(data['country'].value_counts().head(10))\n"
      ],
      "metadata": {
        "colab": {
          "base_uri": "https://localhost:8080/"
        },
        "id": "Cxio5VEJyaEg",
        "outputId": "849576cb-19f0-4a75-c4e8-9ed8e666290f"
      },
      "execution_count": null,
      "outputs": [
        {
          "output_type": "stream",
          "name": "stdout",
          "text": [
            "\n",
            "Frequency Counts for Content Type (Movies vs TV Shows):\n",
            "type\n",
            "movie      6126\n",
            "tv show    2664\n",
            "Name: count, dtype: int64\n",
            "\n",
            "Frequency Counts for Ratings:\n",
            "rating\n",
            "tv-ma       3205\n",
            "tv-14       2157\n",
            "tv-pg        861\n",
            "r            799\n",
            "pg-13        490\n",
            "tv-y7        333\n",
            "tv-y         306\n",
            "pg           287\n",
            "tv-g         220\n",
            "nr            79\n",
            "g             41\n",
            "tv-y7-fv       6\n",
            "nc-17          3\n",
            "ur             3\n",
            "Name: count, dtype: int64\n",
            "\n",
            "Frequency Counts for Top 10 Countries:\n",
            "country\n",
            "united states     3240\n",
            "india             1057\n",
            "united kingdom     638\n",
            "pakistan           421\n",
            "not given          287\n",
            "canada             271\n",
            "japan              259\n",
            "south korea        214\n",
            "france             213\n",
            "spain              182\n",
            "Name: count, dtype: int64\n"
          ]
        }
      ]
    },
    {
      "cell_type": "code",
      "source": [
        "# 5. Central Tendency Measures for Movie Duration\n",
        "\n",
        "if 'movie_duration' in data.columns:\n",
        "    mean_duration = data['movie_duration'].mean()\n",
        "    median_duration = data['movie_duration'].median()\n",
        "    mode_duration = data['movie_duration'].mode()[0]\n",
        "    print(\"\\nCentral Tendency Measures for Movie Duration:\")\n",
        "    print(f\"Mean Duration: {mean_duration}\")\n",
        "    print(f\"Median Duration: {median_duration}\")\n",
        "    print(f\"Mode Duration: {mode_duration}\")\n"
      ],
      "metadata": {
        "colab": {
          "base_uri": "https://localhost:8080/"
        },
        "id": "TyuKiJFty89X",
        "outputId": "f0e82336-4c37-499f-d86c-ae756c73e33c"
      },
      "execution_count": null,
      "outputs": [
        {
          "output_type": "stream",
          "name": "stdout",
          "text": [
            "\n",
            "Central Tendency Measures for Movie Duration:\n",
            "Mean Duration: 99.58488410055502\n",
            "Median Duration: 98.0\n",
            "Mode Duration: 90.0\n"
          ]
        }
      ]
    },
    {
      "cell_type": "markdown",
      "source": [
        "# **Data Cleaning and Preprocessing**"
      ],
      "metadata": {
        "id": "CEm0IbXtue8j"
      }
    },
    {
      "cell_type": "code",
      "source": [
        "# Step 3: Data Cleaning and Preprocessing\n",
        "\n",
        "# 3.1 Missing Values\n",
        "print(\"\\nMissing Values Count:\")\n",
        "print(data.isnull().sum())\n"
      ],
      "metadata": {
        "colab": {
          "base_uri": "https://localhost:8080/"
        },
        "id": "RFwxsyiEmeqa",
        "outputId": "25de3a42-8f4d-4bcb-8ac1-75b2f4b7a308"
      },
      "execution_count": null,
      "outputs": [
        {
          "output_type": "stream",
          "name": "stdout",
          "text": [
            "\n",
            "Missing Values Count:\n",
            "show_id         0\n",
            "type            0\n",
            "title           0\n",
            "director        0\n",
            "country         0\n",
            "date_added      0\n",
            "release_year    0\n",
            "rating          0\n",
            "duration        0\n",
            "listed_in       0\n",
            "dtype: int64\n"
          ]
        }
      ]
    },
    {
      "cell_type": "code",
      "source": [
        "# dropping rows where critical information (like 'title' or 'type') is missing\n",
        "data = data.dropna(subset=['title', 'type'])"
      ],
      "metadata": {
        "id": "vitR9q8imenv"
      },
      "execution_count": null,
      "outputs": []
    },
    {
      "cell_type": "code",
      "source": [
        "# 3.2 Convert 'date_added' to datetime format\n",
        "data['date_added'] = pd.to_datetime(data['date_added'], errors='coerce')\n",
        "\n",
        "# Handling any rows where 'date_added' could not be converted\n",
        "data = data.dropna(subset=['date_added'])"
      ],
      "metadata": {
        "id": "iwhrV-AVmelI"
      },
      "execution_count": null,
      "outputs": []
    },
    {
      "cell_type": "code",
      "source": [
        "# 3.3 Process the 'duration' column\n",
        "# Separating duration values for movies (in minutes) and TV shows (number of seasons)\n",
        "def process_duration(duration, type_):\n",
        "    if type_ == 'Movie':\n",
        "        # To extract the number of minutes for movies\n",
        "        return int(duration.replace(' min', ''))\n",
        "    elif type_ == 'TV Show':\n",
        "        # To extract the number of seasons for TV shows\n",
        "        return int(duration.replace(' Season', '').replace('s', ''))\n",
        "    else:\n",
        "        return None\n",
        "\n",
        "data['duration_processed'] = data.apply(lambda row: process_duration(row['duration'], row['type']), axis=1)"
      ],
      "metadata": {
        "id": "AA5m9Tq_meiX"
      },
      "execution_count": null,
      "outputs": []
    },
    {
      "cell_type": "code",
      "source": [
        "# 3.4 Cleaning text columns by converting to lowercase\n",
        "data['type'] = data['type'].str.lower()\n",
        "data['rating'] = data['rating'].str.lower()\n",
        "data['country'] = data['country'].str.lower()\n",
        "data['listed_in'] = data['listed_in'].str.lower()\n"
      ],
      "metadata": {
        "id": "mQimyHX1mefm"
      },
      "execution_count": null,
      "outputs": []
    },
    {
      "cell_type": "code",
      "source": [
        "# 3.5 Convert numeric columns (release_year) to integer type\n",
        "data['release_year'] = data['release_year'].astype(int)\n"
      ],
      "metadata": {
        "id": "4K3dnxKBmedJ"
      },
      "execution_count": null,
      "outputs": []
    },
    {
      "cell_type": "code",
      "source": [
        "# Step 4: Final Inspection of Preprocessed Data\n",
        "print(\"\\nProcessed Data Info:\")\n",
        "data.info()\n",
        "print(\"\\nSample of Processed Data:\")\n",
        "print(data.head())"
      ],
      "metadata": {
        "colab": {
          "base_uri": "https://localhost:8080/"
        },
        "id": "co10g6wvqSpK",
        "outputId": "08f8be15-33cd-449d-ed83-f51fd99b5f00"
      },
      "execution_count": null,
      "outputs": [
        {
          "output_type": "stream",
          "name": "stdout",
          "text": [
            "\n",
            "Processed Data Info:\n",
            "<class 'pandas.core.frame.DataFrame'>\n",
            "RangeIndex: 8790 entries, 0 to 8789\n",
            "Data columns (total 11 columns):\n",
            " #   Column              Non-Null Count  Dtype         \n",
            "---  ------              --------------  -----         \n",
            " 0   show_id             8790 non-null   object        \n",
            " 1   type                8790 non-null   object        \n",
            " 2   title               8790 non-null   object        \n",
            " 3   director            8790 non-null   object        \n",
            " 4   country             8790 non-null   object        \n",
            " 5   date_added          8790 non-null   datetime64[ns]\n",
            " 6   release_year        8790 non-null   int64         \n",
            " 7   rating              8790 non-null   object        \n",
            " 8   duration            8790 non-null   object        \n",
            " 9   listed_in           8790 non-null   object        \n",
            " 10  duration_processed  8790 non-null   int64         \n",
            "dtypes: datetime64[ns](1), int64(2), object(8)\n",
            "memory usage: 755.5+ KB\n",
            "\n",
            "Sample of Processed Data:\n",
            "  show_id     type                             title         director  \\\n",
            "0      s1    movie              Dick Johnson Is Dead  Kirsten Johnson   \n",
            "1      s3  tv show                         Ganglands  Julien Leclercq   \n",
            "2      s6  tv show                     Midnight Mass    Mike Flanagan   \n",
            "3     s14    movie  Confessions of an Invisible Girl    Bruno Garotti   \n",
            "4      s8    movie                           Sankofa     Haile Gerima   \n",
            "\n",
            "         country date_added  release_year rating  duration  \\\n",
            "0  united states 2021-09-25          2020  pg-13    90 min   \n",
            "1         france 2021-09-24          2021  tv-ma  1 Season   \n",
            "2  united states 2021-09-24          2021  tv-ma  1 Season   \n",
            "3         brazil 2021-09-22          2021  tv-pg    91 min   \n",
            "4  united states 2021-09-24          1993  tv-ma   125 min   \n",
            "\n",
            "                                           listed_in  duration_processed  \n",
            "0                                      documentaries                  90  \n",
            "1  crime tv shows, international tv shows, tv act...                   1  \n",
            "2                 tv dramas, tv horror, tv mysteries                   1  \n",
            "3                 children & family movies, comedies                  91  \n",
            "4   dramas, independent movies, international movies                 125  \n"
          ]
        }
      ]
    },
    {
      "cell_type": "markdown",
      "source": [
        "# **Exploratory Analysis**"
      ],
      "metadata": {
        "id": "zY2pry4JuIg6"
      }
    },
    {
      "cell_type": "code",
      "source": [
        "# Step 5: Exploratory analysis\n",
        "import matplotlib.pyplot as plt\n",
        "import seaborn as sns"
      ],
      "metadata": {
        "id": "QYZvfW29qSly"
      },
      "execution_count": null,
      "outputs": []
    },
    {
      "cell_type": "code",
      "source": [
        "# Count of Movies vs. TV Shows\n",
        "plt.figure(figsize=(8, 6))\n",
        "sns.countplot(data=data, x='type', palette='viridis')\n",
        "plt.title(\"Distribution of Content Type (Movies vs. TV Shows)\")\n",
        "plt.xlabel(\"Content Type\")\n",
        "plt.ylabel(\"Count\")\n",
        "plt.show()\n"
      ],
      "metadata": {
        "colab": {
          "base_uri": "https://localhost:8080/",
          "height": 671
        },
        "id": "11OamEVwqSjD",
        "outputId": "b2fe4ce2-eb75-45ff-ecde-b3d371d731a6"
      },
      "execution_count": null,
      "outputs": [
        {
          "output_type": "stream",
          "name": "stderr",
          "text": [
            "<ipython-input-22-2744ce01c3a2>:3: FutureWarning: \n",
            "\n",
            "Passing `palette` without assigning `hue` is deprecated and will be removed in v0.14.0. Assign the `x` variable to `hue` and set `legend=False` for the same effect.\n",
            "\n",
            "  sns.countplot(data=data, x='type', palette='viridis')\n"
          ]
        },
        {
          "output_type": "display_data",
          "data": {
            "text/plain": [
              "<Figure size 800x600 with 1 Axes>"
            ],
            "image/png": "[encoded data removed]"
          },
          "metadata": {}
        }
      ]
    },
    {
      "cell_type": "code",
      "source": [
        "# Extract the year from the 'date_added' column\n",
        "data['year_added'] = pd.DatetimeIndex(data['date_added']).year\n",
        "\n",
        "# Count of titles added per year\n",
        "plt.figure(figsize=(10, 6))\n",
        "data['year_added'].value_counts().sort_index().plot(kind='line', marker='o')\n",
        "plt.title(\"Trend of Content Added Over Time\")\n",
        "plt.xlabel(\"Year Added\")\n",
        "plt.ylabel(\"Number of Titles Added\")\n",
        "plt.show()\n"
      ],
      "metadata": {
        "colab": {
          "base_uri": "https://localhost:8080/",
          "height": 564
        },
        "id": "n8700OjhqSgq",
        "outputId": "e91abbd4-9452-4f79-ec2d-95ee03b81ffa"
      },
      "execution_count": null,
      "outputs": [
        {
          "output_type": "display_data",
          "data": {
            "text/plain": [
              "<Figure size 1000x600 with 1 Axes>"
            ],
            "image/png": "[encoded data removed]"
          },
          "metadata": {}
        }
      ]
    },
    {
      "cell_type": "code",
      "source": [
        "# Top 10 Countries with Most Content\n",
        "top_countries = data['country'].value_counts().nlargest(10)\n",
        "\n",
        "plt.figure(figsize=(12, 8))\n",
        "sns.barplot(x=top_countries.values, y=top_countries.index, palette='coolwarm')\n",
        "plt.title(\"Top 10 Countries with Most Content on Netflix\")\n",
        "plt.xlabel(\"Number of Titles\")\n",
        "plt.ylabel(\"Country\")\n",
        "plt.show()\n"
      ],
      "metadata": {
        "colab": {
          "base_uri": "https://localhost:8080/",
          "height": 825
        },
        "id": "fsUey4q1rakX",
        "outputId": "e06feacf-0c19-4477-95f2-1bb26437ee71"
      },
      "execution_count": null,
      "outputs": [
        {
          "output_type": "stream",
          "name": "stderr",
          "text": [
            "<ipython-input-24-447d77b6b567>:5: FutureWarning: \n",
            "\n",
            "Passing `palette` without assigning `hue` is deprecated and will be removed in v0.14.0. Assign the `y` variable to `hue` and set `legend=False` for the same effect.\n",
            "\n",
            "  sns.barplot(x=top_countries.values, y=top_countries.index, palette='coolwarm')\n"
          ]
        },
        {
          "output_type": "display_data",
          "data": {
            "text/plain": [
              "<Figure size 1200x800 with 1 Axes>"
            ],
            "image/png": "[encoded data removed]"
          },
          "metadata": {}
        }
      ]
    },
    {
      "cell_type": "code",
      "source": [
        "# Distribution of Content Ratings\n",
        "plt.figure(figsize=(10, 6))\n",
        "sns.countplot(data=data, y='rating', order=data['rating'].value_counts().index, palette='magma')\n",
        "plt.title(\"Distribution of Content Ratings on Netflix\")\n",
        "plt.xlabel(\"Count\")\n",
        "plt.ylabel(\"Rating\")\n",
        "plt.show()\n"
      ],
      "metadata": {
        "colab": {
          "base_uri": "https://localhost:8080/",
          "height": 671
        },
        "id": "R2DsXZZQrag_",
        "outputId": "371da1ec-d9dc-4eb8-9315-797608628e0e"
      },
      "execution_count": null,
      "outputs": [
        {
          "output_type": "stream",
          "name": "stderr",
          "text": [
            "<ipython-input-25-01e9396e25b2>:3: FutureWarning: \n",
            "\n",
            "Passing `palette` without assigning `hue` is deprecated and will be removed in v0.14.0. Assign the `y` variable to `hue` and set `legend=False` for the same effect.\n",
            "\n",
            "  sns.countplot(data=data, y='rating', order=data['rating'].value_counts().index, palette='magma')\n"
          ]
        },
        {
          "output_type": "display_data",
          "data": {
            "text/plain": [
              "<Figure size 1000x600 with 1 Axes>"
            ],
            "image/png": "[encoded data removed]"
          },
          "metadata": {}
        }
      ]
    },
    {
      "cell_type": "code",
      "source": [
        "# Filter for movies and convert 'duration' to numeric\n",
        "movies_data = data[data['type'] == 'movie']\n",
        "movies_data['duration'] = movies_data['duration'].str.replace(' min', '').astype(int)\n",
        "\n",
        "# Plot the duration distribution\n",
        "plt.figure(figsize=(10, 6))\n",
        "sns.histplot(movies_data['duration'], bins=30, kde=True, color='blue')\n",
        "plt.title(\"Distribution of Movie Duration\")\n",
        "plt.xlabel(\"Duration (minutes)\")\n",
        "plt.ylabel(\"Frequency\")\n",
        "plt.show()\n"
      ],
      "metadata": {
        "colab": {
          "base_uri": "https://localhost:8080/",
          "height": 668
        },
        "id": "Gq_r9bZIrae0",
        "outputId": "c5dd205e-7429-4a85-be6e-6b20e6f94fe7"
      },
      "execution_count": null,
      "outputs": [
        {
          "output_type": "stream",
          "name": "stderr",
          "text": [
            "<ipython-input-26-4ccbfb117c58>:3: SettingWithCopyWarning: \n",
            "A value is trying to be set on a copy of a slice from a DataFrame.\n",
            "Try using .loc[row_indexer,col_indexer] = value instead\n",
            "\n",
            "See the caveats in the documentation: https://pandas.pydata.org/pandas-docs/stable/user_guide/indexing.html#returning-a-view-versus-a-copy\n",
            "  movies_data['duration'] = movies_data['duration'].str.replace(' min', '').astype(int)\n"
          ]
        },
        {
          "output_type": "display_data",
          "data": {
            "text/plain": [
              "<Figure size 1000x600 with 1 Axes>"
            ],
            "image/png": "[encoded data removed]"
          },
          "metadata": {}
        }
      ]
    },
    {
      "cell_type": "markdown",
      "source": [
        "# **Hypothesis testing**"
      ],
      "metadata": {
        "id": "GaznBSQ8tPI7"
      }
    },
    {
      "cell_type": "markdown",
      "source": [
        "Hypothesis: \"Movies on Netflix tend to have higher ratings (like 'R' or 'TV-MA') compared to TV Shows.\""
      ],
      "metadata": {
        "id": "cjCtfdOcteNS"
      }
    },
    {
      "cell_type": "markdown",
      "source": [
        "**Null Hypothesis (H0)**: There is no significant difference in the proportion of high-rated content between movies and TV shows.\n",
        "\n",
        "**Alternative Hypothesis (H1)**: Movies are more likely to have higher ratings (e.g., 'R' or 'TV-MA') compared to TV shows."
      ],
      "metadata": {
        "id": "CaepMW-utvY9"
      }
    },
    {
      "cell_type": "markdown",
      "source": [
        "Using **chi-square test for independence** to compare the proportions of high-rated content between two categories"
      ],
      "metadata": {
        "id": "6F9PJiDtvLyd"
      }
    },
    {
      "cell_type": "code",
      "source": [
        "# Preparing the data for testing\n",
        "import pandas as pd\n",
        "from scipy.stats import chi2_contingency\n",
        "\n",
        "high_ratings = ['r', 'tv-ma']\n",
        "\n",
        "# To add a new column to classify each title as high-rated or not\n",
        "data['is_high_rated'] = data['rating'].str.lower().isin(high_ratings)\n",
        "\n",
        "# To create a contingency table for the chi-square test\n",
        "contingency_table = pd.crosstab(data['type'], data['is_high_rated'])\n",
        "\n",
        "print(\"Contingency Table:\")\n",
        "print(contingency_table)\n"
      ],
      "metadata": {
        "colab": {
          "base_uri": "https://localhost:8080/"
        },
        "id": "Wn7yrQJMslYZ",
        "outputId": "87ff8565-b9cc-4f52-a9e2-bd95e8f49ac6"
      },
      "execution_count": null,
      "outputs": [
        {
          "output_type": "stream",
          "name": "stdout",
          "text": [
            "Contingency Table:\n",
            "is_high_rated  False  True \n",
            "type                       \n",
            "movie           3267   2859\n",
            "tv show         1519   1145\n"
          ]
        }
      ]
    },
    {
      "cell_type": "code",
      "source": [
        "# Perform the Chi-Square test\n",
        "chi2, p_value, dof, expected = chi2_contingency(contingency_table)\n",
        "\n",
        "print(\"\\nChi-Square Test Results\")\n",
        "print(f\"Chi2 Statistic: {chi2}\")\n",
        "print(f\"P-value: {p_value}\")\n",
        "print(f\"Degrees of Freedom: {dof}\")\n",
        "print(\"Expected Frequencies:\")\n",
        "print(expected)\n"
      ],
      "metadata": {
        "colab": {
          "base_uri": "https://localhost:8080/"
        },
        "id": "kmT0Lzz_slVh",
        "outputId": "6f803a18-5cf4-43be-cdf7-f51c0c3fe152"
      },
      "execution_count": null,
      "outputs": [
        {
          "output_type": "stream",
          "name": "stdout",
          "text": [
            "\n",
            "Chi-Square Test Results\n",
            "Chi2 Statistic: 10.041379846914175\n",
            "P-value: 0.0015306250680072468\n",
            "Degrees of Freedom: 1\n",
            "Expected Frequencies:\n",
            "[[3335.49897611 2790.50102389]\n",
            " [1450.50102389 1213.49897611]]\n"
          ]
        }
      ]
    },
    {
      "cell_type": "markdown",
      "source": [
        "# **Interpretation of results**"
      ],
      "metadata": {
        "id": "i559S1XOwVag"
      }
    },
    {
      "cell_type": "markdown",
      "source": [
        "Using the **significance level as 0.05**\n",
        "\n",
        "p-value (0.00153) ≤ α (0.05), we reject the null hypothesis.\n",
        "\n",
        "This means there's a statistically significant difference in the proportions of high-rated content between movies and TV shows."
      ],
      "metadata": {
        "id": "EqgSuZXgwfAU"
      }
    },
    {
      "cell_type": "code",
      "source": [],
      "metadata": {
        "id": "wWNQatKaslSq"
      },
      "execution_count": null,
      "outputs": []
    },
    {
      "cell_type": "code",
      "source": [],
      "metadata": {
        "id": "WfHxJSE6wMYt"
      },
      "execution_count": null,
      "outputs": []
    },
    {
      "cell_type": "code",
      "source": [],
      "metadata": {
        "id": "gxfI93kqwMVa"
      },
      "execution_count": null,
      "outputs": []
    }
  ]
}